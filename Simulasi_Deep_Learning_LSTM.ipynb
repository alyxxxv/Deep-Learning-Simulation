{
  "nbformat": 4,
  "nbformat_minor": 0,
  "metadata": {
    "colab": {
      "name": "Simulasi Deep Learning LSTM.ipynb",
      "provenance": [],
      "include_colab_link": true
    },
    "kernelspec": {
      "display_name": "Python 3.7.11 64-bit",
      "name": "python3711jvsc74a57bd0fd69f43f58546b570e94fd7eba7b65e6bcc7a5bbc4eab0408017d18902915d69"
    },
    "language_info": {
      "name": "python",
      "version": ""
    },
    "metadata": {
      "interpreter": {
        "hash": "fd69f43f58546b570e94fd7eba7b65e6bcc7a5bbc4eab0408017d18902915d69"
      }
    }
  },
  "cells": [
    {
      "cell_type": "markdown",
      "metadata": {
        "id": "view-in-github",
        "colab_type": "text"
      },
      "source": [
        "<a href=\"https://colab.research.google.com/github/alyxxxv/alyxxxv/blob/main/Simulasi_Deep_Learning_LSTM.ipynb\" target=\"_parent\"><img src=\"https://colab.research.google.com/assets/colab-badge.svg\" alt=\"Open In Colab\"/></a>"
      ]
    },
    {
      "cell_type": "markdown",
      "metadata": {
        "id": "ZcelxTz8sT6q"
      },
      "source": [
        "# RAVDESS Song Emotion Recognition with LSTM \n",
        "Acoustic features are loaded directly from data directory"
      ]
    },
    {
      "cell_type": "code",
      "metadata": {
        "id": "rbMKAfNesYuy"
      },
      "source": [
        "import glob\n",
        "import os\n",
        "import librosa\n",
        "import numpy as np\n",
        "from sklearn.model_selection import train_test_split\n",
        "import tensorflow as tf"
      ],
      "execution_count": null,
      "outputs": []
    },
    {
      "cell_type": "code",
      "metadata": {
        "colab": {
          "base_uri": "https://localhost:8080/"
        },
        "id": "8T0F32ZRCrAG",
        "outputId": "f7e47e87-bf47-47d3-bad9-a3894cc4a99a"
      },
      "source": [
        "!git clone https://github.com/bagustris/ravdess_song.git"
      ],
      "execution_count": null,
      "outputs": [
        {
          "output_type": "stream",
          "name": "stdout",
          "text": [
            "Cloning into 'ravdess_song'...\n",
            "remote: Enumerating objects: 1175, done.\u001b[K\n",
            "remote: Counting objects: 100% (118/118), done.\u001b[K\n",
            "remote: Compressing objects: 100% (103/103), done.\u001b[K\n",
            "remote: Total 1175 (delta 66), reused 39 (delta 15), pack-reused 1057\u001b[K\n",
            "Receiving objects: 100% (1175/1175), 232.34 MiB | 24.97 MiB/s, done.\n",
            "Resolving deltas: 100% (70/70), done.\n",
            "Checking out files: 100% (1033/1033), done.\n"
          ]
        }
      ]
    },
    {
      "cell_type": "code",
      "metadata": {
        "colab": {
          "base_uri": "https://localhost:8080/"
        },
        "id": "b33LC9_DC0gv",
        "outputId": "a3d7495b-6032-45e8-cc8a-b88f32353ba1"
      },
      "source": [
        "cd ravdess_song/"
      ],
      "execution_count": null,
      "outputs": [
        {
          "output_type": "stream",
          "name": "stdout",
          "text": [
            "/content/ravdess_song\n"
          ]
        }
      ]
    },
    {
      "cell_type": "code",
      "metadata": {
        "id": "EqT-75OvbIhJ"
      },
      "source": [
        "# assign hsf to X, lab to y; reshape X for LSTM\n",
        "X = np.load('data/x.npy', allow_pickle=True)\n",
        "y = np.load('data/y.npy', allow_pickle=True)"
      ],
      "execution_count": null,
      "outputs": []
    },
    {
      "cell_type": "code",
      "metadata": {
        "id": "L1dGaGt8Z07N"
      },
      "source": [
        "# reshape x untuk lstm\n",
        "X = X.reshape((X.shape[0], 1, X.shape[1]))"
      ],
      "execution_count": null,
      "outputs": []
    },
    {
      "cell_type": "code",
      "metadata": {
        "id": "o0mM3RbKcI82"
      },
      "source": [
        "# split into train and test\n",
        "x_train, x_test, y_train, y_test = train_test_split(X, y, test_size=0.1)"
      ],
      "execution_count": null,
      "outputs": []
    },
    {
      "cell_type": "code",
      "metadata": {
        "id": "aq0SbnHTcMGG"
      },
      "source": [
        "# functio to build LSTM model\n",
        "def model_lstm():\n",
        "    model = tf.keras.models.Sequential()\n",
        "    model.add(tf.keras.layers.BatchNormalization(axis=-1,\n",
        "              input_shape=(x_train.shape[1], x_train.shape[2])))\n",
        "    model.add(tf.keras.layers.LSTM(256, return_sequences=True))\n",
        "    model.add(tf.keras.layers.LSTM(256, return_sequences=True))\n",
        "    model.add(tf.keras.layers.LSTM(256, return_sequences=True))\n",
        "    model.add(tf.keras.layers.Flatten())\n",
        "    model.add(tf.keras.layers.Dropout(0.4))\n",
        "    model.add(tf.keras.layers.Dense(6, activation='softmax'))\n",
        "\n",
        "    # compile model: set loss, optimizer, metric\n",
        "    model.compile(loss=tf.keras.losses.SparseCategoricalCrossentropy(),\n",
        "                  optimizer=tf.keras.optimizers.Adam(),\n",
        "                  metrics=['accuracy'])\n",
        "    return model"
      ],
      "execution_count": null,
      "outputs": []
    },
    {
      "cell_type": "code",
      "metadata": {
        "colab": {
          "base_uri": "https://localhost:8080/"
        },
        "id": "-vT5MfXXcX2N",
        "outputId": "2863c1cf-cb5d-4730-f6de-d3ff0e6aabc1"
      },
      "source": [
        "# create the model\n",
        "model = model_lstm()\n",
        "print(model.summary())"
      ],
      "execution_count": null,
      "outputs": [
        {
          "output_type": "stream",
          "name": "stdout",
          "text": [
            "Model: \"sequential\"\n",
            "_________________________________________________________________\n",
            "Layer (type)                 Output Shape              Param #   \n",
            "=================================================================\n",
            "batch_normalization (BatchNo (None, 1, 386)            1544      \n",
            "_________________________________________________________________\n",
            "lstm (LSTM)                  (None, 1, 256)            658432    \n",
            "_________________________________________________________________\n",
            "lstm_1 (LSTM)                (None, 1, 256)            525312    \n",
            "_________________________________________________________________\n",
            "lstm_2 (LSTM)                (None, 1, 256)            525312    \n",
            "_________________________________________________________________\n",
            "flatten (Flatten)            (None, 256)               0         \n",
            "_________________________________________________________________\n",
            "dropout (Dropout)            (None, 256)               0         \n",
            "_________________________________________________________________\n",
            "dense (Dense)                (None, 6)                 1542      \n",
            "=================================================================\n",
            "Total params: 1,712,142\n",
            "Trainable params: 1,711,370\n",
            "Non-trainable params: 772\n",
            "_________________________________________________________________\n",
            "None\n"
          ]
        }
      ]
    },
    {
      "cell_type": "code",
      "metadata": {
        "colab": {
          "base_uri": "https://localhost:8080/"
        },
        "id": "FXO6TWIFcbxA",
        "outputId": "a044e989-736f-40a7-a46f-a96db2757f1e"
      },
      "source": [
        "# train the Dense model\n",
        "hist = model.fit(x_train, y_train, epochs=100, shuffle=True, batch_size=16)"
      ],
      "execution_count": null,
      "outputs": [
        {
          "output_type": "stream",
          "name": "stdout",
          "text": [
            "Epoch 1/100\n",
            "57/57 [==============================] - 6s 21ms/step - loss: 1.4282 - accuracy: 0.4538\n",
            "Epoch 2/100\n",
            "57/57 [==============================] - 1s 20ms/step - loss: 0.7158 - accuracy: 0.7242\n",
            "Epoch 3/100\n",
            "57/57 [==============================] - 1s 20ms/step - loss: 0.4560 - accuracy: 0.8308\n",
            "Epoch 4/100\n",
            "57/57 [==============================] - 1s 20ms/step - loss: 0.3278 - accuracy: 0.8725\n",
            "Epoch 5/100\n",
            "57/57 [==============================] - 1s 20ms/step - loss: 0.2825 - accuracy: 0.8846\n",
            "Epoch 6/100\n",
            "57/57 [==============================] - 1s 21ms/step - loss: 0.2637 - accuracy: 0.9011\n",
            "Epoch 7/100\n",
            "57/57 [==============================] - 1s 20ms/step - loss: 0.2187 - accuracy: 0.9143\n",
            "Epoch 8/100\n",
            "57/57 [==============================] - 1s 20ms/step - loss: 0.1596 - accuracy: 0.9462\n",
            "Epoch 9/100\n",
            "57/57 [==============================] - 1s 20ms/step - loss: 0.1464 - accuracy: 0.9516\n",
            "Epoch 10/100\n",
            "57/57 [==============================] - 1s 20ms/step - loss: 0.1523 - accuracy: 0.9418\n",
            "Epoch 11/100\n",
            "57/57 [==============================] - 1s 20ms/step - loss: 0.1774 - accuracy: 0.9385\n",
            "Epoch 12/100\n",
            "57/57 [==============================] - 1s 20ms/step - loss: 0.1542 - accuracy: 0.9484\n",
            "Epoch 13/100\n",
            "57/57 [==============================] - 1s 20ms/step - loss: 0.1406 - accuracy: 0.9560\n",
            "Epoch 14/100\n",
            "57/57 [==============================] - 1s 20ms/step - loss: 0.1224 - accuracy: 0.9538\n",
            "Epoch 15/100\n",
            "57/57 [==============================] - 1s 20ms/step - loss: 0.0987 - accuracy: 0.9593\n",
            "Epoch 16/100\n",
            "57/57 [==============================] - 1s 20ms/step - loss: 0.1136 - accuracy: 0.9648\n",
            "Epoch 17/100\n",
            "57/57 [==============================] - 1s 20ms/step - loss: 0.0877 - accuracy: 0.9725\n",
            "Epoch 18/100\n",
            "57/57 [==============================] - 1s 20ms/step - loss: 0.1109 - accuracy: 0.9659\n",
            "Epoch 19/100\n",
            "57/57 [==============================] - 1s 21ms/step - loss: 0.0823 - accuracy: 0.9725\n",
            "Epoch 20/100\n",
            "57/57 [==============================] - 1s 20ms/step - loss: 0.0757 - accuracy: 0.9703\n",
            "Epoch 21/100\n",
            "57/57 [==============================] - 1s 20ms/step - loss: 0.0650 - accuracy: 0.9758\n",
            "Epoch 22/100\n",
            "57/57 [==============================] - 1s 20ms/step - loss: 0.0480 - accuracy: 0.9846\n",
            "Epoch 23/100\n",
            "57/57 [==============================] - 1s 20ms/step - loss: 0.0892 - accuracy: 0.9692\n",
            "Epoch 24/100\n",
            "57/57 [==============================] - 1s 20ms/step - loss: 0.0546 - accuracy: 0.9780\n",
            "Epoch 25/100\n",
            "57/57 [==============================] - 1s 20ms/step - loss: 0.0891 - accuracy: 0.9725\n",
            "Epoch 26/100\n",
            "57/57 [==============================] - 1s 20ms/step - loss: 0.0512 - accuracy: 0.9846\n",
            "Epoch 27/100\n",
            "57/57 [==============================] - 1s 20ms/step - loss: 0.0523 - accuracy: 0.9824\n",
            "Epoch 28/100\n",
            "57/57 [==============================] - 1s 20ms/step - loss: 0.0513 - accuracy: 0.9824\n",
            "Epoch 29/100\n",
            "57/57 [==============================] - 1s 20ms/step - loss: 0.0419 - accuracy: 0.9846\n",
            "Epoch 30/100\n",
            "57/57 [==============================] - 1s 20ms/step - loss: 0.0561 - accuracy: 0.9802\n",
            "Epoch 31/100\n",
            "57/57 [==============================] - 1s 21ms/step - loss: 0.0913 - accuracy: 0.9703\n",
            "Epoch 32/100\n",
            "57/57 [==============================] - 1s 20ms/step - loss: 0.0416 - accuracy: 0.9802\n",
            "Epoch 33/100\n",
            "57/57 [==============================] - 1s 20ms/step - loss: 0.0444 - accuracy: 0.9857\n",
            "Epoch 34/100\n",
            "57/57 [==============================] - 1s 20ms/step - loss: 0.0445 - accuracy: 0.9824\n",
            "Epoch 35/100\n",
            "57/57 [==============================] - 1s 21ms/step - loss: 0.0680 - accuracy: 0.9780\n",
            "Epoch 36/100\n",
            "57/57 [==============================] - 1s 20ms/step - loss: 0.0455 - accuracy: 0.9824\n",
            "Epoch 37/100\n",
            "57/57 [==============================] - 1s 21ms/step - loss: 0.0504 - accuracy: 0.9835\n",
            "Epoch 38/100\n",
            "57/57 [==============================] - 1s 21ms/step - loss: 0.0265 - accuracy: 0.9912\n",
            "Epoch 39/100\n",
            "57/57 [==============================] - 1s 20ms/step - loss: 0.0257 - accuracy: 0.9912\n",
            "Epoch 40/100\n",
            "57/57 [==============================] - 1s 20ms/step - loss: 0.0169 - accuracy: 0.9945\n",
            "Epoch 41/100\n",
            "57/57 [==============================] - 1s 21ms/step - loss: 0.0694 - accuracy: 0.9813\n",
            "Epoch 42/100\n",
            "57/57 [==============================] - 1s 20ms/step - loss: 0.0822 - accuracy: 0.9714\n",
            "Epoch 43/100\n",
            "57/57 [==============================] - 1s 20ms/step - loss: 0.0416 - accuracy: 0.9824\n",
            "Epoch 44/100\n",
            "57/57 [==============================] - 1s 21ms/step - loss: 0.0568 - accuracy: 0.9780\n",
            "Epoch 45/100\n",
            "57/57 [==============================] - 1s 21ms/step - loss: 0.0325 - accuracy: 0.9890\n",
            "Epoch 46/100\n",
            "57/57 [==============================] - 1s 21ms/step - loss: 0.0458 - accuracy: 0.9835\n",
            "Epoch 47/100\n",
            "57/57 [==============================] - 1s 20ms/step - loss: 0.0380 - accuracy: 0.9868\n",
            "Epoch 48/100\n",
            "57/57 [==============================] - 1s 20ms/step - loss: 0.0290 - accuracy: 0.9890\n",
            "Epoch 49/100\n",
            "57/57 [==============================] - 1s 21ms/step - loss: 0.0093 - accuracy: 0.9967\n",
            "Epoch 50/100\n",
            "57/57 [==============================] - 1s 21ms/step - loss: 0.0384 - accuracy: 0.9901\n",
            "Epoch 51/100\n",
            "57/57 [==============================] - 1s 20ms/step - loss: 0.0407 - accuracy: 0.9912\n",
            "Epoch 52/100\n",
            "57/57 [==============================] - 1s 20ms/step - loss: 0.0711 - accuracy: 0.9780\n",
            "Epoch 53/100\n",
            "57/57 [==============================] - 1s 21ms/step - loss: 0.0186 - accuracy: 0.9934\n",
            "Epoch 54/100\n",
            "57/57 [==============================] - 1s 21ms/step - loss: 0.0306 - accuracy: 0.9879\n",
            "Epoch 55/100\n",
            "57/57 [==============================] - 1s 20ms/step - loss: 0.0435 - accuracy: 0.9846\n",
            "Epoch 56/100\n",
            "57/57 [==============================] - 1s 21ms/step - loss: 0.0154 - accuracy: 0.9945\n",
            "Epoch 57/100\n",
            "57/57 [==============================] - 1s 21ms/step - loss: 0.0174 - accuracy: 0.9945\n",
            "Epoch 58/100\n",
            "57/57 [==============================] - 1s 21ms/step - loss: 0.0233 - accuracy: 0.9934\n",
            "Epoch 59/100\n",
            "57/57 [==============================] - 1s 20ms/step - loss: 0.0205 - accuracy: 0.9923\n",
            "Epoch 60/100\n",
            "57/57 [==============================] - 1s 21ms/step - loss: 0.0089 - accuracy: 0.9967\n",
            "Epoch 61/100\n",
            "57/57 [==============================] - 1s 21ms/step - loss: 0.0233 - accuracy: 0.9934\n",
            "Epoch 62/100\n",
            "57/57 [==============================] - 1s 20ms/step - loss: 0.0802 - accuracy: 0.9736\n",
            "Epoch 63/100\n",
            "57/57 [==============================] - 1s 21ms/step - loss: 0.0234 - accuracy: 0.9934\n",
            "Epoch 64/100\n",
            "57/57 [==============================] - 1s 20ms/step - loss: 0.0363 - accuracy: 0.9879\n",
            "Epoch 65/100\n",
            "57/57 [==============================] - 1s 21ms/step - loss: 0.0251 - accuracy: 0.9879\n",
            "Epoch 66/100\n",
            "57/57 [==============================] - 1s 21ms/step - loss: 0.0154 - accuracy: 0.9967\n",
            "Epoch 67/100\n",
            "57/57 [==============================] - 1s 21ms/step - loss: 0.0209 - accuracy: 0.9923\n",
            "Epoch 68/100\n",
            "57/57 [==============================] - 1s 21ms/step - loss: 0.0255 - accuracy: 0.9912\n",
            "Epoch 69/100\n",
            "57/57 [==============================] - 1s 21ms/step - loss: 0.0158 - accuracy: 0.9967\n",
            "Epoch 70/100\n",
            "57/57 [==============================] - 1s 21ms/step - loss: 0.0212 - accuracy: 0.9890\n",
            "Epoch 71/100\n",
            "57/57 [==============================] - 1s 21ms/step - loss: 0.0447 - accuracy: 0.9879\n",
            "Epoch 72/100\n",
            "57/57 [==============================] - 1s 22ms/step - loss: 0.0122 - accuracy: 0.9967\n",
            "Epoch 73/100\n",
            "57/57 [==============================] - 1s 20ms/step - loss: 0.0349 - accuracy: 0.9846\n",
            "Epoch 74/100\n",
            "57/57 [==============================] - 1s 21ms/step - loss: 0.0140 - accuracy: 0.9967\n",
            "Epoch 75/100\n",
            "57/57 [==============================] - 1s 20ms/step - loss: 0.0283 - accuracy: 0.9934\n",
            "Epoch 76/100\n",
            "57/57 [==============================] - 1s 20ms/step - loss: 0.0581 - accuracy: 0.9835\n",
            "Epoch 77/100\n",
            "57/57 [==============================] - 1s 21ms/step - loss: 0.0501 - accuracy: 0.9857\n",
            "Epoch 78/100\n",
            "57/57 [==============================] - 1s 21ms/step - loss: 0.0230 - accuracy: 0.9934\n",
            "Epoch 79/100\n",
            "57/57 [==============================] - 1s 20ms/step - loss: 0.0129 - accuracy: 0.9956\n",
            "Epoch 80/100\n",
            "57/57 [==============================] - 1s 20ms/step - loss: 0.0216 - accuracy: 0.9945\n",
            "Epoch 81/100\n",
            "57/57 [==============================] - 1s 21ms/step - loss: 0.0421 - accuracy: 0.9846\n",
            "Epoch 82/100\n",
            "57/57 [==============================] - 1s 21ms/step - loss: 0.0339 - accuracy: 0.9912\n",
            "Epoch 83/100\n",
            "57/57 [==============================] - 1s 21ms/step - loss: 0.0380 - accuracy: 0.9901\n",
            "Epoch 84/100\n",
            "57/57 [==============================] - 1s 20ms/step - loss: 0.0195 - accuracy: 0.9934\n",
            "Epoch 85/100\n",
            "57/57 [==============================] - 1s 21ms/step - loss: 0.0321 - accuracy: 0.9879\n",
            "Epoch 86/100\n",
            "57/57 [==============================] - 1s 21ms/step - loss: 0.0253 - accuracy: 0.9901\n",
            "Epoch 87/100\n",
            "57/57 [==============================] - 1s 21ms/step - loss: 0.0447 - accuracy: 0.9901\n",
            "Epoch 88/100\n",
            "57/57 [==============================] - 1s 20ms/step - loss: 0.0421 - accuracy: 0.9901\n",
            "Epoch 89/100\n",
            "57/57 [==============================] - 1s 21ms/step - loss: 0.0407 - accuracy: 0.9868\n",
            "Epoch 90/100\n",
            "57/57 [==============================] - 1s 20ms/step - loss: 0.0418 - accuracy: 0.9857\n",
            "Epoch 91/100\n",
            "57/57 [==============================] - 1s 21ms/step - loss: 0.0263 - accuracy: 0.9890\n",
            "Epoch 92/100\n",
            "57/57 [==============================] - 1s 21ms/step - loss: 0.0241 - accuracy: 0.9934\n",
            "Epoch 93/100\n",
            "57/57 [==============================] - 1s 21ms/step - loss: 0.0233 - accuracy: 0.9945\n",
            "Epoch 94/100\n",
            "57/57 [==============================] - 1s 21ms/step - loss: 0.0067 - accuracy: 0.9978\n",
            "Epoch 95/100\n",
            "57/57 [==============================] - 1s 21ms/step - loss: 0.0117 - accuracy: 0.9956\n",
            "Epoch 96/100\n",
            "57/57 [==============================] - 1s 21ms/step - loss: 0.0076 - accuracy: 0.9967\n",
            "Epoch 97/100\n",
            "57/57 [==============================] - 1s 20ms/step - loss: 0.0227 - accuracy: 0.9934\n",
            "Epoch 98/100\n",
            "57/57 [==============================] - 1s 20ms/step - loss: 0.0117 - accuracy: 0.9934\n",
            "Epoch 99/100\n",
            "57/57 [==============================] - 1s 21ms/step - loss: 0.0419 - accuracy: 0.9890\n",
            "Epoch 100/100\n",
            "57/57 [==============================] - 1s 20ms/step - loss: 0.0252 - accuracy: 0.9923\n"
          ]
        }
      ]
    },
    {
      "cell_type": "code",
      "metadata": {
        "colab": {
          "base_uri": "https://localhost:8080/"
        },
        "id": "Fnlc0bficqpE",
        "outputId": "0870351e-ea5e-4e04-c6d0-dc37cd197658"
      },
      "source": [
        "evaluate = model.evaluate(x_test, y_test, batch_size=16)\n",
        "print(\"Loss: \", evaluate[0], \"--> Accuracy: \", evaluate[1])"
      ],
      "execution_count": null,
      "outputs": [
        {
          "output_type": "stream",
          "name": "stdout",
          "text": [
            "7/7 [==============================] - 1s 7ms/step - loss: 0.1839 - accuracy: 0.9412\n",
            "Loss:  0.1839439421892166 --> Accuracy:  0.9411764740943909\n"
          ]
        }
      ]
    },
    {
      "cell_type": "code",
      "metadata": {
        "id": "7rv23Ud6fNm6"
      },
      "source": [
        ""
      ],
      "execution_count": null,
      "outputs": []
    }
  ]
}