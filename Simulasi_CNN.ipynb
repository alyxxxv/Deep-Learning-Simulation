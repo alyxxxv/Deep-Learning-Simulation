{
  "nbformat": 4,
  "nbformat_minor": 0,
  "metadata": {
    "colab": {
      "name": "Simulasi CNN.ipynb",
      "provenance": [],
      "include_colab_link": true
    },
    "kernelspec": {
      "name": "python3",
      "display_name": "Python 3"
    },
    "language_info": {
      "name": "python"
    }
  },
  "cells": [
    {
      "cell_type": "markdown",
      "metadata": {
        "id": "view-in-github",
        "colab_type": "text"
      },
      "source": [
        "<a href=\"https://colab.research.google.com/github/alyxxxv/alyxxxv/blob/main/Simulasi_CNN.ipynb\" target=\"_parent\"><img src=\"https://colab.research.google.com/assets/colab-badge.svg\" alt=\"Open In Colab\"/></a>"
      ]
    },
    {
      "cell_type": "markdown",
      "metadata": {
        "id": "ZcelxTz8sT6q"
      },
      "source": [
        "# RAVDESS Song Emotion Recognition"
      ]
    },
    {
      "cell_type": "code",
      "metadata": {
        "id": "rbMKAfNesYuy"
      },
      "source": [
        "import glob\n",
        "import os\n",
        "import librosa\n",
        "import numpy as np\n",
        "import tensorflow as tf"
      ],
      "execution_count": 1,
      "outputs": []
    },
    {
      "cell_type": "code",
      "metadata": {
        "colab": {
          "base_uri": "https://localhost:8080/"
        },
        "id": "tM7RnOezcSdt",
        "outputId": "6e226e61-a5f1-4aa5-eec5-8748b1055e81"
      },
      "source": [
        "!git clone https://github.com/bagustris/ravdess_song.git"
      ],
      "execution_count": 2,
      "outputs": [
        {
          "output_type": "stream",
          "name": "stdout",
          "text": [
            "Cloning into 'ravdess_song'...\n",
            "remote: Enumerating objects: 1175, done.\u001b[K\n",
            "remote: Counting objects: 100% (118/118), done.\u001b[K\n",
            "remote: Compressing objects: 100% (103/103), done.\u001b[K\n",
            "remote: Total 1175 (delta 66), reused 39 (delta 15), pack-reused 1057\u001b[K\n",
            "Receiving objects: 100% (1175/1175), 232.34 MiB | 24.69 MiB/s, done.\n",
            "Resolving deltas: 100% (70/70), done.\n",
            "Checking out files: 100% (1033/1033), done.\n"
          ]
        }
      ]
    },
    {
      "cell_type": "code",
      "metadata": {
        "colab": {
          "base_uri": "https://localhost:8080/"
        },
        "id": "KWVfE7MrcU1q",
        "outputId": "bc81813b-8052-4480-de7c-7782bb82f3dd"
      },
      "source": [
        "cd ravdess_song"
      ],
      "execution_count": 4,
      "outputs": [
        {
          "output_type": "stream",
          "name": "stdout",
          "text": [
            "[Errno 2] No such file or directory: 'ravdess_song'\n",
            "/content/ravdess_song\n"
          ]
        }
      ]
    },
    {
      "cell_type": "code",
      "metadata": {
        "id": "uwDICG5RcoHo"
      },
      "source": [
        "# load extracted features\n",
        "x_train = np.load('data/x_train.npy', allow_pickle=True)\n",
        "x_test = np.load('data/x_test.npy', allow_pickle=True)\n",
        "y_train = np.load('data/y_train.npy', allow_pickle=True)\n",
        "y_test = np.load('data/y_test.npy', allow_pickle=True)\n"
      ],
      "execution_count": 5,
      "outputs": []
    },
    {
      "cell_type": "code",
      "metadata": {
        "id": "0EyQmU8Gc9KX"
      },
      "source": [
        "# reshape X for CNN\n",
        "x_train = x_train.reshape(x_train.shape[0], x_train.shape[1], 1)\n",
        "x_test = x_test.reshape(x_test.shape[0], x_test.shape[1], 1)\n"
      ],
      "execution_count": 6,
      "outputs": []
    },
    {
      "cell_type": "code",
      "metadata": {
        "id": "j7cuaEPsdNmi"
      },
      "source": [
        "def model_cnn():\n",
        "    model = tf.keras.models.Sequential()\n",
        "    model.add(tf.keras.layers.BatchNormalization(axis=-1,\n",
        "              input_shape=(x_train.shape[1], x_train.shape[2])))\n",
        "    model.add(tf.keras.layers.Conv1D(256, 128, 1, padding='same'))\n",
        "    model.add(tf.keras.layers.Activation('relu'))\n",
        "    model.add(tf.keras.layers.MaxPooling1D(2))\n",
        "    model.add(tf.keras.layers.Flatten())\n",
        "    model.add(tf.keras.layers.Dropout(0.4))\n",
        "    model.add(tf.keras.layers.Dense(6, activation='softmax'))\n",
        "\n",
        "    # compile model: set loss, optimizer, metric\n",
        "    model.compile(loss=tf.keras.losses.SparseCategoricalCrossentropy(),\n",
        "                  optimizer=tf.keras.optimizers.Adam(),\n",
        "                  metrics=['accuracy'])\n",
        "    return model"
      ],
      "execution_count": 7,
      "outputs": []
    },
    {
      "cell_type": "code",
      "metadata": {
        "colab": {
          "base_uri": "https://localhost:8080/"
        },
        "id": "GtfC1aFidTwL",
        "outputId": "0d3e13ca-827b-4e79-a936-4fc3081732d7"
      },
      "source": [
        "model = model_cnn()\n",
        "model.summary()"
      ],
      "execution_count": 8,
      "outputs": [
        {
          "output_type": "stream",
          "name": "stdout",
          "text": [
            "Model: \"sequential\"\n",
            "_________________________________________________________________\n",
            "Layer (type)                 Output Shape              Param #   \n",
            "=================================================================\n",
            "batch_normalization (BatchNo (None, 386, 1)            4         \n",
            "_________________________________________________________________\n",
            "conv1d (Conv1D)              (None, 386, 256)          33024     \n",
            "_________________________________________________________________\n",
            "activation (Activation)      (None, 386, 256)          0         \n",
            "_________________________________________________________________\n",
            "max_pooling1d (MaxPooling1D) (None, 193, 256)          0         \n",
            "_________________________________________________________________\n",
            "flatten (Flatten)            (None, 49408)             0         \n",
            "_________________________________________________________________\n",
            "dropout (Dropout)            (None, 49408)             0         \n",
            "_________________________________________________________________\n",
            "dense (Dense)                (None, 6)                 296454    \n",
            "=================================================================\n",
            "Total params: 329,482\n",
            "Trainable params: 329,480\n",
            "Non-trainable params: 2\n",
            "_________________________________________________________________\n"
          ]
        }
      ]
    },
    {
      "cell_type": "code",
      "metadata": {
        "colab": {
          "base_uri": "https://localhost:8080/"
        },
        "id": "tZdJ-vpZdYRS",
        "outputId": "b8a97d77-2a57-4f2b-e583-942635e59cd8"
      },
      "source": [
        "# train CNN model\n",
        "hist = model.fit(x_train, y_train, epochs=100, shuffle=True, batch_size=16)"
      ],
      "execution_count": 9,
      "outputs": [
        {
          "output_type": "stream",
          "name": "stdout",
          "text": [
            "Epoch 1/100\n",
            "53/53 [==============================] - 4s 62ms/step - loss: 1.7870 - accuracy: 0.2608\n",
            "Epoch 2/100\n",
            "53/53 [==============================] - 3s 62ms/step - loss: 1.6628 - accuracy: 0.3074\n",
            "Epoch 3/100\n",
            "53/53 [==============================] - 3s 63ms/step - loss: 1.4063 - accuracy: 0.4127\n",
            "Epoch 4/100\n",
            "53/53 [==============================] - 3s 62ms/step - loss: 1.2596 - accuracy: 0.5072\n",
            "Epoch 5/100\n",
            "53/53 [==============================] - 3s 63ms/step - loss: 1.2442 - accuracy: 0.5156\n",
            "Epoch 6/100\n",
            "53/53 [==============================] - 3s 63ms/step - loss: 1.0481 - accuracy: 0.5789\n",
            "Epoch 7/100\n",
            "53/53 [==============================] - 3s 63ms/step - loss: 0.9439 - accuracy: 0.6411\n",
            "Epoch 8/100\n",
            "53/53 [==============================] - 3s 63ms/step - loss: 0.8555 - accuracy: 0.6770\n",
            "Epoch 9/100\n",
            "53/53 [==============================] - 3s 62ms/step - loss: 0.8238 - accuracy: 0.6627\n",
            "Epoch 10/100\n",
            "53/53 [==============================] - 3s 63ms/step - loss: 0.7948 - accuracy: 0.6878\n",
            "Epoch 11/100\n",
            "53/53 [==============================] - 3s 64ms/step - loss: 0.7539 - accuracy: 0.7189\n",
            "Epoch 12/100\n",
            "53/53 [==============================] - 3s 63ms/step - loss: 0.7553 - accuracy: 0.7081\n",
            "Epoch 13/100\n",
            "53/53 [==============================] - 3s 63ms/step - loss: 0.7120 - accuracy: 0.7452\n",
            "Epoch 14/100\n",
            "53/53 [==============================] - 3s 62ms/step - loss: 0.6336 - accuracy: 0.7667\n",
            "Epoch 15/100\n",
            "53/53 [==============================] - 3s 62ms/step - loss: 0.6373 - accuracy: 0.7560\n",
            "Epoch 16/100\n",
            "53/53 [==============================] - 3s 63ms/step - loss: 0.6222 - accuracy: 0.7823\n",
            "Epoch 17/100\n",
            "53/53 [==============================] - 3s 63ms/step - loss: 0.5504 - accuracy: 0.7955\n",
            "Epoch 18/100\n",
            "53/53 [==============================] - 3s 62ms/step - loss: 0.5908 - accuracy: 0.7943\n",
            "Epoch 19/100\n",
            "53/53 [==============================] - 3s 62ms/step - loss: 0.5554 - accuracy: 0.7859\n",
            "Epoch 20/100\n",
            "53/53 [==============================] - 3s 62ms/step - loss: 0.5103 - accuracy: 0.8110\n",
            "Epoch 21/100\n",
            "53/53 [==============================] - 3s 63ms/step - loss: 0.5674 - accuracy: 0.7859\n",
            "Epoch 22/100\n",
            "53/53 [==============================] - 3s 62ms/step - loss: 0.7286 - accuracy: 0.7428\n",
            "Epoch 23/100\n",
            "53/53 [==============================] - 3s 62ms/step - loss: 0.5506 - accuracy: 0.7871\n",
            "Epoch 24/100\n",
            "53/53 [==============================] - 3s 62ms/step - loss: 0.5443 - accuracy: 0.7823\n",
            "Epoch 25/100\n",
            "53/53 [==============================] - 3s 63ms/step - loss: 0.5166 - accuracy: 0.8074\n",
            "Epoch 26/100\n",
            "53/53 [==============================] - 3s 63ms/step - loss: 0.5332 - accuracy: 0.8014\n",
            "Epoch 27/100\n",
            "53/53 [==============================] - 3s 62ms/step - loss: 0.4339 - accuracy: 0.8361\n",
            "Epoch 28/100\n",
            "53/53 [==============================] - 3s 62ms/step - loss: 0.4580 - accuracy: 0.8182\n",
            "Epoch 29/100\n",
            "53/53 [==============================] - 3s 63ms/step - loss: 0.5376 - accuracy: 0.8050\n",
            "Epoch 30/100\n",
            "53/53 [==============================] - 3s 63ms/step - loss: 0.5497 - accuracy: 0.7931\n",
            "Epoch 31/100\n",
            "53/53 [==============================] - 3s 62ms/step - loss: 0.3964 - accuracy: 0.8481\n",
            "Epoch 32/100\n",
            "53/53 [==============================] - 3s 62ms/step - loss: 0.4154 - accuracy: 0.8493\n",
            "Epoch 33/100\n",
            "53/53 [==============================] - 3s 63ms/step - loss: 0.3885 - accuracy: 0.8409\n",
            "Epoch 34/100\n",
            "53/53 [==============================] - 3s 62ms/step - loss: 0.4254 - accuracy: 0.8553\n",
            "Epoch 35/100\n",
            "53/53 [==============================] - 3s 63ms/step - loss: 0.4230 - accuracy: 0.8505\n",
            "Epoch 36/100\n",
            "53/53 [==============================] - 3s 63ms/step - loss: 0.4181 - accuracy: 0.8433\n",
            "Epoch 37/100\n",
            "53/53 [==============================] - 3s 62ms/step - loss: 0.4464 - accuracy: 0.8433\n",
            "Epoch 38/100\n",
            "53/53 [==============================] - 3s 63ms/step - loss: 0.4014 - accuracy: 0.8445\n",
            "Epoch 39/100\n",
            "53/53 [==============================] - 3s 63ms/step - loss: 0.4320 - accuracy: 0.8385\n",
            "Epoch 40/100\n",
            "53/53 [==============================] - 3s 62ms/step - loss: 0.3746 - accuracy: 0.8541\n",
            "Epoch 41/100\n",
            "53/53 [==============================] - 3s 62ms/step - loss: 0.3553 - accuracy: 0.8553\n",
            "Epoch 42/100\n",
            "53/53 [==============================] - 3s 62ms/step - loss: 0.4980 - accuracy: 0.8194\n",
            "Epoch 43/100\n",
            "53/53 [==============================] - 3s 63ms/step - loss: 0.3609 - accuracy: 0.8600\n",
            "Epoch 44/100\n",
            "53/53 [==============================] - 3s 63ms/step - loss: 0.3296 - accuracy: 0.8804\n",
            "Epoch 45/100\n",
            "53/53 [==============================] - 3s 63ms/step - loss: 0.3956 - accuracy: 0.8469\n",
            "Epoch 46/100\n",
            "53/53 [==============================] - 3s 63ms/step - loss: 0.3440 - accuracy: 0.8600\n",
            "Epoch 47/100\n",
            "53/53 [==============================] - 3s 63ms/step - loss: 0.4088 - accuracy: 0.8421\n",
            "Epoch 48/100\n",
            "53/53 [==============================] - 3s 63ms/step - loss: 0.3595 - accuracy: 0.8696\n",
            "Epoch 49/100\n",
            "53/53 [==============================] - 3s 62ms/step - loss: 0.3429 - accuracy: 0.8636\n",
            "Epoch 50/100\n",
            "53/53 [==============================] - 3s 62ms/step - loss: 0.3397 - accuracy: 0.8720\n",
            "Epoch 51/100\n",
            "53/53 [==============================] - 3s 62ms/step - loss: 0.3919 - accuracy: 0.8565\n",
            "Epoch 52/100\n",
            "53/53 [==============================] - 3s 62ms/step - loss: 0.3444 - accuracy: 0.8744\n",
            "Epoch 53/100\n",
            "53/53 [==============================] - 3s 62ms/step - loss: 0.3663 - accuracy: 0.8589\n",
            "Epoch 54/100\n",
            "53/53 [==============================] - 3s 63ms/step - loss: 0.4332 - accuracy: 0.8481\n",
            "Epoch 55/100\n",
            "53/53 [==============================] - 3s 63ms/step - loss: 0.3353 - accuracy: 0.8780\n",
            "Epoch 56/100\n",
            "53/53 [==============================] - 3s 63ms/step - loss: 0.3447 - accuracy: 0.8612\n",
            "Epoch 57/100\n",
            "53/53 [==============================] - 3s 63ms/step - loss: 0.3538 - accuracy: 0.8804\n",
            "Epoch 58/100\n",
            "53/53 [==============================] - 3s 62ms/step - loss: 0.3743 - accuracy: 0.8541\n",
            "Epoch 59/100\n",
            "53/53 [==============================] - 3s 62ms/step - loss: 0.2855 - accuracy: 0.8900\n",
            "Epoch 60/100\n",
            "53/53 [==============================] - 3s 62ms/step - loss: 0.3057 - accuracy: 0.8816\n",
            "Epoch 61/100\n",
            "53/53 [==============================] - 3s 63ms/step - loss: 0.2672 - accuracy: 0.8923\n",
            "Epoch 62/100\n",
            "53/53 [==============================] - 3s 63ms/step - loss: 0.2848 - accuracy: 0.8828\n",
            "Epoch 63/100\n",
            "53/53 [==============================] - 3s 62ms/step - loss: 0.2495 - accuracy: 0.8923\n",
            "Epoch 64/100\n",
            "53/53 [==============================] - 3s 62ms/step - loss: 0.3237 - accuracy: 0.8720\n",
            "Epoch 65/100\n",
            "53/53 [==============================] - 3s 63ms/step - loss: 0.3186 - accuracy: 0.8756\n",
            "Epoch 66/100\n",
            "53/53 [==============================] - 3s 64ms/step - loss: 0.2674 - accuracy: 0.8864\n",
            "Epoch 67/100\n",
            "53/53 [==============================] - 3s 63ms/step - loss: 0.3299 - accuracy: 0.8756\n",
            "Epoch 68/100\n",
            "53/53 [==============================] - 3s 63ms/step - loss: 0.2502 - accuracy: 0.9055\n",
            "Epoch 69/100\n",
            "53/53 [==============================] - 3s 63ms/step - loss: 0.2263 - accuracy: 0.9139\n",
            "Epoch 70/100\n",
            "53/53 [==============================] - 3s 63ms/step - loss: 0.3085 - accuracy: 0.8840\n",
            "Epoch 71/100\n",
            "53/53 [==============================] - 3s 63ms/step - loss: 0.2680 - accuracy: 0.8983\n",
            "Epoch 72/100\n",
            "53/53 [==============================] - 3s 62ms/step - loss: 0.3277 - accuracy: 0.8828\n",
            "Epoch 73/100\n",
            "53/53 [==============================] - 3s 62ms/step - loss: 0.2853 - accuracy: 0.8983\n",
            "Epoch 74/100\n",
            "53/53 [==============================] - 3s 62ms/step - loss: 0.2421 - accuracy: 0.9043\n",
            "Epoch 75/100\n",
            "53/53 [==============================] - 3s 63ms/step - loss: 0.2913 - accuracy: 0.8995\n",
            "Epoch 76/100\n",
            "53/53 [==============================] - 3s 63ms/step - loss: 0.3636 - accuracy: 0.8696\n",
            "Epoch 77/100\n",
            "53/53 [==============================] - 3s 62ms/step - loss: 0.2624 - accuracy: 0.9079\n",
            "Epoch 78/100\n",
            "53/53 [==============================] - 3s 63ms/step - loss: 0.2923 - accuracy: 0.8900\n",
            "Epoch 79/100\n",
            "53/53 [==============================] - 3s 63ms/step - loss: 0.2729 - accuracy: 0.8900\n",
            "Epoch 80/100\n",
            "53/53 [==============================] - 3s 63ms/step - loss: 0.2470 - accuracy: 0.8983\n",
            "Epoch 81/100\n",
            "53/53 [==============================] - 3s 62ms/step - loss: 0.2290 - accuracy: 0.9163\n",
            "Epoch 82/100\n",
            "53/53 [==============================] - 3s 63ms/step - loss: 0.2332 - accuracy: 0.9139\n",
            "Epoch 83/100\n",
            "53/53 [==============================] - 3s 63ms/step - loss: 0.2915 - accuracy: 0.8971\n",
            "Epoch 84/100\n",
            "53/53 [==============================] - 3s 63ms/step - loss: 0.2551 - accuracy: 0.8995\n",
            "Epoch 85/100\n",
            "53/53 [==============================] - 3s 63ms/step - loss: 0.2851 - accuracy: 0.8935\n",
            "Epoch 86/100\n",
            "53/53 [==============================] - 3s 63ms/step - loss: 0.2265 - accuracy: 0.9115\n",
            "Epoch 87/100\n",
            "53/53 [==============================] - 3s 63ms/step - loss: 0.3158 - accuracy: 0.8900\n",
            "Epoch 88/100\n",
            "53/53 [==============================] - 3s 64ms/step - loss: 0.2259 - accuracy: 0.9115\n",
            "Epoch 89/100\n",
            "53/53 [==============================] - 3s 64ms/step - loss: 0.2637 - accuracy: 0.8840\n",
            "Epoch 90/100\n",
            "53/53 [==============================] - 3s 63ms/step - loss: 0.1952 - accuracy: 0.9127\n",
            "Epoch 91/100\n",
            "53/53 [==============================] - 3s 63ms/step - loss: 0.2422 - accuracy: 0.9043\n",
            "Epoch 92/100\n",
            "53/53 [==============================] - 3s 63ms/step - loss: 0.2122 - accuracy: 0.9127\n",
            "Epoch 93/100\n",
            "53/53 [==============================] - 3s 63ms/step - loss: 0.2144 - accuracy: 0.9127\n",
            "Epoch 94/100\n",
            "53/53 [==============================] - 3s 63ms/step - loss: 0.2644 - accuracy: 0.8923\n",
            "Epoch 95/100\n",
            "53/53 [==============================] - 3s 63ms/step - loss: 0.2209 - accuracy: 0.9103\n",
            "Epoch 96/100\n",
            "53/53 [==============================] - 3s 63ms/step - loss: 0.1921 - accuracy: 0.9234\n",
            "Epoch 97/100\n",
            "53/53 [==============================] - 3s 63ms/step - loss: 0.1956 - accuracy: 0.9318\n",
            "Epoch 98/100\n",
            "53/53 [==============================] - 3s 63ms/step - loss: 0.1817 - accuracy: 0.9342\n",
            "Epoch 99/100\n",
            "53/53 [==============================] - 3s 63ms/step - loss: 0.2633 - accuracy: 0.8864\n",
            "Epoch 100/100\n",
            "53/53 [==============================] - 3s 63ms/step - loss: 0.3169 - accuracy: 0.8840\n"
          ]
        }
      ]
    },
    {
      "cell_type": "code",
      "metadata": {
        "colab": {
          "base_uri": "https://localhost:8080/"
        },
        "id": "-WgLQKcqd8gm",
        "outputId": "511eab33-00f2-4934-90ab-eb7728c89a70"
      },
      "source": [
        "evaluate = model.evaluate(x_test, y_test, batch_size=16)\n",
        "print(\"Loss: \", evaluate[0], \"--> Accuracy: \", evaluate[1])"
      ],
      "execution_count": 10,
      "outputs": [
        {
          "output_type": "stream",
          "name": "stdout",
          "text": [
            "11/11 [==============================] - 0s 14ms/step - loss: 0.8001 - accuracy: 0.7443\n",
            "Loss:  0.8000785708427429 --> Accuracy:  0.7443181872367859\n"
          ]
        }
      ]
    }
  ]
}